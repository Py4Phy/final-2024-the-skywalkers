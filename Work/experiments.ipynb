{
 "cells": [
  {
   "cell_type": "markdown",
   "id": "530d985f-8d26-41c9-8fd9-9f3d521e4236",
   "metadata": {},
   "source": [
    "# PHY432: Final Project:\n",
    "# Gravitational Impacts of the Death Star on Endor and Earth-like Planets\n",
    "### The Skywalkers"
   ]
  },
  {
   "cell_type": "markdown",
   "id": "9db3de84-d01f-4b61-a99c-29643b67aa3a",
   "metadata": {},
   "source": [
    "## Experiments and other work"
   ]
  },
  {
   "cell_type": "code",
   "execution_count": null,
   "id": "d4f9bbd1-233d-4de7-9e25-72177588183e",
   "metadata": {},
   "outputs": [],
   "source": []
  }
 ],
 "metadata": {
  "kernelspec": {
   "display_name": "Python 3 (ipykernel)",
   "language": "python",
   "name": "python3"
  },
  "language_info": {
   "codemirror_mode": {
    "name": "ipython",
    "version": 3
   },
   "file_extension": ".py",
   "mimetype": "text/x-python",
   "name": "python",
   "nbconvert_exporter": "python",
   "pygments_lexer": "ipython3",
   "version": "3.11.7"
  }
 },
 "nbformat": 4,
 "nbformat_minor": 5
}
