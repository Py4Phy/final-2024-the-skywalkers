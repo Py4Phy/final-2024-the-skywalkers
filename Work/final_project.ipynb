{
 "cells": [
  {
   "cell_type": "markdown",
   "metadata": {
    "id": "KMujcmz8SLW5"
   },
   "source": [
    "## <font color=#46769B>Gravitational Impacts of the Death Star on Endor and Earth-like Planets\n",
    "### Author: The Skywalkers - Simon Tebeck (#xxxx),Pranav Gupta (#1232325837)\n",
    "<br>\n",
    "Date: April 10, 2024\n",
    "<br>\n",
    "PHY432 S24. Final Project"
   ]
  },
  {
   "cell_type": "markdown",
   "metadata": {},
   "source": [
    "# <center><font color=#46769B>Abstract</font></center>\n",
    "\n",
    "This study investigates the xxx."
   ]
  },
  {
   "cell_type": "markdown",
   "metadata": {
    "id": "3j25jTWofk03"
   },
   "source": [
    "# <center><font color=#46769B>Introduction</font></center>\n",
    "\n",
    "The fictional universe of Star Wars introduces the concept of the Death Star, a massive space station with the capability to annihilate entire planets. Its resemblance to a natural moon raises intriguing questions about its gravitational impact on nearby celestial bodies, such as Endor, an Earth-like planet featured in the saga. This project aims to analyze the gravitational influence exerted by the Death Star on such planets, investigating potential changes in gravitational forces, tidal effects, and the consequences of its sudden destruction. Through the application of Newton’s Law of Gravity and the exploration of the three-body problem, this study seeks to provide a comprehensive understanding of these phenomena.\n",
    "\n",
    "# <center><font color=#46769B>Problem Statement</font></center>\n",
    "The Death Star, with its moon-like appearance, prompts an examination of its mass, gravitational strength, and the effects of its orbit around planets like Endor and Earth. This project will explore whether the Death Star's presence could lead to measurable changes in gravitational forces, create dangerous tides, or otherwise impact planetary stability and life. Additionally, it will consider the physical implications of the space station's sudden destruction, including potential destabilization of planetary orbits and the fallout of such an event."
   ]
  },
  {
   "cell_type": "markdown",
   "metadata": {},
   "source": [
    "# <center><font color=#46769B>Methods</font></center>\n",
    "\n",
    "#### Data Acquisition\n",
    "To conduct this analysis, critical parameters such as mass, volume, and distance need to be obtained. These will be sourced from canonical and fan-based literature, supplemented by estimations derived from film analysis. References will include:\n",
    "\n",
    "Star Wars Databank (https://www.starwars.com/databank), \n",
    "Fan analyses and forums (e.g., TheForce.net, Wookieepedia), \n",
    "Peer-reviewed articles on similar fictional analyses\n",
    "\n",
    "#### Methodology\n",
    "The project will utilize the Velocity Verlet integration algorithm to account for energy conservation in our simulations. This method will help in accurately simulating the orbits of Endor and Earth (along with its moon) in scenarios with and without the Death Star’s influence. Gravitational forces on the surface of these planets will be calculated by analyzing the effects on probe masses distributed across a sphere, aiding in the assessment of potential tidal changes. The Python programming language, with its scientific libraries such as NumPy and matplotlib for 3D plotting, will be employed for simulation and visualization.\n",
    "\n",
    "The following cell imports the `numpy` and `matplotlib.pyplot` libraries and __constants__ which are used in this notebook. You must run it first if you wish to evaluate any of the code contained below.\n"
   ]
  },
  {
   "cell_type": "code",
   "execution_count": null,
   "metadata": {
    "id": "NBEa_Igxmb55"
   },
   "outputs": [],
   "source": [
    "import numpy as np\n",
    "import matplotlib.pyplot as plt\n",
    "from scipy.integrate import solve_ivp\n",
    "\n",
    "# Constants\n",
    "L1, R1 = 0.2, 0.1"
   ]
  },
  {
   "cell_type": "markdown",
   "metadata": {
    "id": "hnlk8VTeggPg"
   },
   "source": [
    "# <center><font color=#46769B>Results and Discussion</font></center>"
   ]
  },
  {
   "cell_type": "markdown",
   "metadata": {
    "id": "Zm00nHNMgpHQ"
   },
   "source": [
    "## <font color=#46769B>Task 1:</font>\n",
    "__Quantitative Analysis__\n",
    "\n",
    "Collect and estimate significant data (mass, volume, distance) for the Death Star and relevant celestial bodies."
   ]
  },
  {
   "cell_type": "code",
   "execution_count": 1,
   "metadata": {},
   "outputs": [
    {
     "name": "stdout",
     "output_type": "stream",
     "text": [
      "xxx\n"
     ]
    }
   ],
   "source": [
    "print('xxx')"
   ]
  },
  {
   "cell_type": "markdown",
   "metadata": {
    "id": "c9fPia-VkCnP"
   },
   "source": [
    "## <font color=#46769B>Task 2:</font>\n",
    "__Orbital Simulation__\n",
    "\n",
    "Model the orbits of Endor and Earth, with and without the Death Star, to identify any gravitational impacts."
   ]
  },
  {
   "cell_type": "code",
   "execution_count": 2,
   "metadata": {
    "colab": {
     "base_uri": "https://localhost:8080/",
     "height": 1000
    },
    "id": "l77bTR56l_23",
    "outputId": "38898ddc-165d-4160-b71d-9879a4e3582c"
   },
   "outputs": [
    {
     "name": "stdout",
     "output_type": "stream",
     "text": [
      "xxx\n"
     ]
    }
   ],
   "source": [
    "print('xxx')"
   ]
  },
  {
   "cell_type": "markdown",
   "metadata": {
    "id": "P7UdTSucnonQ"
   },
   "source": [
    "__Analysis of Situations__\n",
    "\n",
    "xxx"
   ]
  },
  {
   "cell_type": "markdown",
   "metadata": {
    "id": "lSUDSAzOnGWh"
   },
   "source": [
    "## <font color=#46769B>Task 3:</font>\n",
    "**Surface Impact Evaluation**\n",
    "\n",
    "Assess changes in gravitational force and tidal effects on the planet’s surface attributable to the Death Star."
   ]
  },
  {
   "cell_type": "code",
   "execution_count": 3,
   "metadata": {
    "colab": {
     "base_uri": "https://localhost:8080/"
    },
    "id": "H_VydghYqc62",
    "outputId": "c8679364-c72b-447a-8bf9-065856c9d618"
   },
   "outputs": [
    {
     "name": "stdout",
     "output_type": "stream",
     "text": [
      "xxx\n"
     ]
    }
   ],
   "source": [
    "print('xxx')"
   ]
  },
  {
   "cell_type": "markdown",
   "metadata": {
    "id": "zwcPvJsoOlS8"
   },
   "source": [
    "xxx"
   ]
  },
  {
   "cell_type": "markdown",
   "metadata": {
    "id": "RS4V471unGkG"
   },
   "source": [
    "## <font color=#46769B>Task 4:</font>\n",
    "__Destruction Implications__\n",
    "\n",
    "Explore the ramifications of the Death Star’s sudden disappearance, focusing on orbital stability and potential planetary impacts."
   ]
  },
  {
   "cell_type": "code",
   "execution_count": 4,
   "metadata": {
    "colab": {
     "base_uri": "https://localhost:8080/",
     "height": 564
    },
    "id": "WS5CdSAD9rCX",
    "outputId": "66571845-a6c5-4ff4-c1d4-d7918410ee0c"
   },
   "outputs": [
    {
     "name": "stdout",
     "output_type": "stream",
     "text": [
      "xxx\n"
     ]
    }
   ],
   "source": [
    "print('xxx')"
   ]
  },
  {
   "cell_type": "markdown",
   "metadata": {
    "id": "RAKeoCP1HBcE"
   },
   "source": [
    "xxx"
   ]
  },
  {
   "cell_type": "markdown",
   "metadata": {
    "id": "QW_QUEDInN-Y"
   },
   "source": [
    "## <font color=#46769B>Task 5:</font>\n",
    "__Visualization__ \n",
    "\n",
    "Employ 3D plots to effectively present the simulation results, highlighting key findings and anomalies."
   ]
  },
  {
   "cell_type": "code",
   "execution_count": 9,
   "metadata": {},
   "outputs": [
    {
     "name": "stdout",
     "output_type": "stream",
     "text": [
      "xxx\n"
     ]
    }
   ],
   "source": [
    "print('xxx')"
   ]
  },
  {
   "cell_type": "markdown",
   "metadata": {},
   "source": [
    "xxx"
   ]
  },
  {
   "cell_type": "markdown",
   "metadata": {
    "id": "5Qs670RFg2KJ"
   },
   "source": [
    "# <center><font color=#46769B>Conclusions</font></center>\n",
    "\n",
    "This project stands at the intersection of theoretical physics and pop culture, offering a unique opportunity to engage with classical mechanics in a fun and imaginative context. By meticulously analyzing the gravitational effects of the Death Star on Endor and Earth-like planets, this study aims to contribute to the broader understanding of celestial mechanics and the impact of massive objects on planetary systems. The results are expected to spark interest not only among fans of the Star Wars franchise but also within the academic community, fostering a greater appreciation for the application of physics in speculative fiction.\n"
   ]
  },
  {
   "cell_type": "markdown",
   "metadata": {},
   "source": [
    "# <center><font color=#46769B>Acknowledgment</center>\n",
    "\n",
    "## Contributions</font>\n",
    "<ol><li>Simon Tebeck - 50%</li>\n",
    "<li>Pranav Gupta - 50%</li></ol>\n"
   ]
  },
  {
   "cell_type": "markdown",
   "metadata": {
    "id": "8sBNoeOahRDA"
   },
   "source": [
    "# <center><font color=#46769B>References</font></center>\n",
    "- xxx\n",
    "- xxx\n"
   ]
  }
 ],
 "metadata": {
  "colab": {
   "provenance": [],
   "toc_visible": true
  },
  "kernelspec": {
   "display_name": "Python 3 (ipykernel)",
   "language": "python",
   "name": "python3"
  },
  "language_info": {
   "codemirror_mode": {
    "name": "ipython",
    "version": 3
   },
   "file_extension": ".py",
   "mimetype": "text/x-python",
   "name": "python",
   "nbconvert_exporter": "python",
   "pygments_lexer": "ipython3",
   "version": "3.11.3"
  }
 },
 "nbformat": 4,
 "nbformat_minor": 1
}
